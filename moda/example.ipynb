{
 "cells": [
  {
   "cell_type": "code",
   "execution_count": null,
   "metadata": {},
   "outputs": [],
   "source": [
    "import pandas as pd\n",
    "from moda.dataprep import raw_to_ts, ts_to_range"
   ]
  },
  {
   "cell_type": "code",
   "execution_count": null,
   "metadata": {},
   "outputs": [],
   "source": [
    "DATAPATH = \"example/SF_data/SF311-2008.csv\"\n",
    "# The dataset can be downloaded from here: https://data.sfgov.org/City-Infrastructure/311-Cases/vw6y-z8j6/data\n",
    "TIME_RANGE = \"3H\" # Aggregate all events in the raw data into 3 hour intervals\n",
    "\n",
    "# Read raw file\n",
    "raw = pd.read_csv(DATAPATH,nrows=100000)\n",
    "raw = raw.rename(columns={'Opened':'date','Category':'category'})\n",
    "\n",
    "# Turn the raw data into a time series (with date as a pandas DatetimeIndex)\n",
    "ts = raw_to_ts(raw)\n",
    "\n",
    "# Aggregate items per time and category, given a time interval\n",
    "ranged_ts = ts_to_range(ts,time_range=TIME_RANGE)"
   ]
  },
  {
   "cell_type": "code",
   "execution_count": null,
   "metadata": {},
   "outputs": [],
   "source": [
    "raw.head()"
   ]
  },
  {
   "cell_type": "code",
   "execution_count": null,
   "metadata": {},
   "outputs": [],
   "source": [
    "ranged_ts.head()"
   ]
  },
  {
   "cell_type": "code",
   "execution_count": null,
   "metadata": {},
   "outputs": [],
   "source": [
    "from moda.evaluators import get_metrics_for_all_categories, get_final_metrics\n",
    "from moda.dataprep import read_data\n",
    "from moda.models import STLTrendinessDetector\n",
    "\n",
    "dataset = read_data(\"datasets/SF24H_labeled.csv\")\n",
    "print(dataset.head())\n",
    "\n",
    "model = STLTrendinessDetector(freq='24H', \n",
    "                              min_value=10,\n",
    "                              anomaly_type='residual',\n",
    "                              num_of_std=3, lo_delta=0)\n",
    "\n",
    "# Take the entire time series and evaluate anomalies on all of it or just the last window(s)\n",
    "prediction = model.predict(dataset)\n",
    "raw_metrics = get_metrics_for_all_categories(dataset[['value']], prediction[['prediction']], dataset[['label']],\n",
    "                                             window_size_for_metrics=1)\n",
    "metrics = get_final_metrics(raw_metrics)\n",
    "print('f1 = {}'.format(metrics['f1']))\n",
    "print('precision = {}'.format(metrics['precision']))\n",
    "print('recall = {}'.format(metrics['recall']))\n",
    "\n",
    "## Plot results for each category\n",
    "#model.plot(labels=dataset['label'])"
   ]
  }
 ],
 "metadata": {
  "kernelspec": {
   "display_name": "Python 3",
   "language": "python",
   "name": "python3"
  },
  "language_info": {
   "codemirror_mode": {
    "name": "ipython",
    "version": 3
   },
   "file_extension": ".py",
   "mimetype": "text/x-python",
   "name": "python",
   "nbconvert_exporter": "python",
   "pygments_lexer": "ipython3",
   "version": "3.6.5"
  }
 },
 "nbformat": 4,
 "nbformat_minor": 2
}
