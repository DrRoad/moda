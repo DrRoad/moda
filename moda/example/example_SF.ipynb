{
 "cells": [
  {
   "cell_type": "markdown",
   "metadata": {},
   "source": [
    "# Using the MODA framework to analyze the SF 311 data\n",
    "\n",
    "Source of data: https://data.sfgov.org/City-Infrastructure/311-Cases/vw6y-z8j6/data"
   ]
  },
  {
   "cell_type": "code",
   "execution_count": 1,
   "metadata": {},
   "outputs": [],
   "source": [
    "%matplotlib inline\n",
    "import matplotlib.pyplot as plt\n",
    "\n",
    "import pandas as pd\n",
    "pd.options.mode.chained_assignment = None  # default='warn'\n",
    "\n",
    "import numpy as np\n",
    "\n",
    "## The time window to bucket samples\n",
    "TIME_RANGE = '1H'\n",
    "\n",
    "## File path (original data is ~1GB, this is a reduced version with only categories and dates)\n",
    "#Original file:\n",
    "#DATAPATH = \"SF311_simplified.csv\"\n",
    "\n",
    "#Sample data:\n",
    "DATAPATH = \"SF_data/SF-311-categories-2018.csv\""
   ]
  },
  {
   "cell_type": "code",
   "execution_count": 2,
   "metadata": {},
   "outputs": [
    {
     "data": {
      "text/html": [
       "<div>\n",
       "<style scoped>\n",
       "    .dataframe tbody tr th:only-of-type {\n",
       "        vertical-align: middle;\n",
       "    }\n",
       "\n",
       "    .dataframe tbody tr th {\n",
       "        vertical-align: top;\n",
       "    }\n",
       "\n",
       "    .dataframe thead th {\n",
       "        text-align: right;\n",
       "    }\n",
       "</style>\n",
       "<table border=\"1\" class=\"dataframe\">\n",
       "  <thead>\n",
       "    <tr style=\"text-align: right;\">\n",
       "      <th></th>\n",
       "      <th>date</th>\n",
       "      <th>date.1</th>\n",
       "      <th>category</th>\n",
       "      <th>timestamp</th>\n",
       "    </tr>\n",
       "  </thead>\n",
       "  <tbody>\n",
       "    <tr>\n",
       "      <th>0</th>\n",
       "      <td>2018-03-01 15:27:00</td>\n",
       "      <td>2018-03-01 15:27:00</td>\n",
       "      <td>Color Curb</td>\n",
       "      <td>1519918020</td>\n",
       "    </tr>\n",
       "    <tr>\n",
       "      <th>1</th>\n",
       "      <td>2018-03-04 17:00:00</td>\n",
       "      <td>2018-03-04 17:00:00</td>\n",
       "      <td>General Request - COUNTY CLERK</td>\n",
       "      <td>1520182800</td>\n",
       "    </tr>\n",
       "    <tr>\n",
       "      <th>2</th>\n",
       "      <td>2018-01-16 13:02:00</td>\n",
       "      <td>2018-01-16 13:02:00</td>\n",
       "      <td>Sidewalk or Curb</td>\n",
       "      <td>1516107720</td>\n",
       "    </tr>\n",
       "    <tr>\n",
       "      <th>3</th>\n",
       "      <td>2018-03-08 14:54:00</td>\n",
       "      <td>2018-03-08 14:54:00</td>\n",
       "      <td>Litter Receptacles</td>\n",
       "      <td>1520520840</td>\n",
       "    </tr>\n",
       "    <tr>\n",
       "      <th>4</th>\n",
       "      <td>2018-03-19 15:25:00</td>\n",
       "      <td>2018-03-19 15:25:00</td>\n",
       "      <td>Sign Repair</td>\n",
       "      <td>1521473100</td>\n",
       "    </tr>\n",
       "    <tr>\n",
       "      <th>5</th>\n",
       "      <td>2018-06-01 08:33:00</td>\n",
       "      <td>2018-06-01 08:33:00</td>\n",
       "      <td>Abandoned Vehicle</td>\n",
       "      <td>1527841980</td>\n",
       "    </tr>\n",
       "    <tr>\n",
       "      <th>6</th>\n",
       "      <td>2018-03-05 07:30:00</td>\n",
       "      <td>2018-03-05 07:30:00</td>\n",
       "      <td>General Request - COUNTY CLERK</td>\n",
       "      <td>1520235000</td>\n",
       "    </tr>\n",
       "    <tr>\n",
       "      <th>7</th>\n",
       "      <td>2018-01-04 12:34:00</td>\n",
       "      <td>2018-01-04 12:34:00</td>\n",
       "      <td>Tree Maintenance</td>\n",
       "      <td>1515069240</td>\n",
       "    </tr>\n",
       "    <tr>\n",
       "      <th>8</th>\n",
       "      <td>2018-01-26 09:18:00</td>\n",
       "      <td>2018-01-26 09:18:00</td>\n",
       "      <td>Sidewalk or Curb</td>\n",
       "      <td>1516958280</td>\n",
       "    </tr>\n",
       "    <tr>\n",
       "      <th>9</th>\n",
       "      <td>2018-02-04 12:33:00</td>\n",
       "      <td>2018-02-04 12:33:00</td>\n",
       "      <td>Litter Receptacles</td>\n",
       "      <td>1517747580</td>\n",
       "    </tr>\n",
       "  </tbody>\n",
       "</table>\n",
       "</div>"
      ],
      "text/plain": [
       "                  date               date.1                        category  \\\n",
       "0  2018-03-01 15:27:00  2018-03-01 15:27:00                      Color Curb   \n",
       "1  2018-03-04 17:00:00  2018-03-04 17:00:00  General Request - COUNTY CLERK   \n",
       "2  2018-01-16 13:02:00  2018-01-16 13:02:00                Sidewalk or Curb   \n",
       "3  2018-03-08 14:54:00  2018-03-08 14:54:00              Litter Receptacles   \n",
       "4  2018-03-19 15:25:00  2018-03-19 15:25:00                     Sign Repair   \n",
       "5  2018-06-01 08:33:00  2018-06-01 08:33:00               Abandoned Vehicle   \n",
       "6  2018-03-05 07:30:00  2018-03-05 07:30:00  General Request - COUNTY CLERK   \n",
       "7  2018-01-04 12:34:00  2018-01-04 12:34:00                Tree Maintenance   \n",
       "8  2018-01-26 09:18:00  2018-01-26 09:18:00                Sidewalk or Curb   \n",
       "9  2018-02-04 12:33:00  2018-02-04 12:33:00              Litter Receptacles   \n",
       "\n",
       "    timestamp  \n",
       "0  1519918020  \n",
       "1  1520182800  \n",
       "2  1516107720  \n",
       "3  1520520840  \n",
       "4  1521473100  \n",
       "5  1527841980  \n",
       "6  1520235000  \n",
       "7  1515069240  \n",
       "8  1516958280  \n",
       "9  1517747580  "
      ]
     },
     "execution_count": 2,
     "metadata": {},
     "output_type": "execute_result"
    }
   ],
   "source": [
    "#Raw data sample:\n",
    "raw = pd.read_csv(DATAPATH,nrows=100)\n",
    "raw.head(10)"
   ]
  },
  {
   "cell_type": "code",
   "execution_count": 3,
   "metadata": {},
   "outputs": [],
   "source": [
    "from moda.dataprep.raw_to_ts import raw_to_ts\n",
    "from moda.dataprep.ts_to_range import ts_to_range\n",
    "\n",
    "def prep_data(datapath, time_range='24H', nrows=None, min_date=None, max_date=None, save_files=False,file_prefix = \"\", usecols=None):\n",
    "    \"\"\"\n",
    "    Takes a raw data with timestamps (date column), categories (category column) and additional columns,\n",
    "    and turns it into a ranged time-series: Group the original raw data by time interval (time_range) and category.\n",
    "    Result is the number of samples per category in each time range.\n",
    "    :param datapath: the path to the csv file\n",
    "    :param time_range: the time_range according to which the data is grouped by\n",
    "    :param nrows: limits the number of rows read from the csv\n",
    "    :param min_date: filters out ranges prior to min_date\n",
    "    :param max_date: filters out ranges after max_date\n",
    "    :param save_files: Whether to save intermediate csvs\n",
    "    :returns a pd.DataFrame with one value per time_range and category.\n",
    "    This value is the number of samples within this range for a specific category\n",
    "    \"\"\"\n",
    "\n",
    "    if nrows is None:\n",
    "        raw = pd.read_csv(datapath, usecols=usecols)\n",
    "    else:\n",
    "        raw = pd.read_csv(datapath, usecols=usecols, nrows=nrows)\n",
    "\n",
    "    raw = raw.rename(columns={'Opened': 'date', 'Category': 'category'})\n",
    "\n",
    "    # Create a time series dataframe\n",
    "    ts = raw_to_ts(raw, min_date=min_date, max_date=max_date)\n",
    "\n",
    "    # Divide time series to ranges and categories\n",
    "    ranged_ts = ts_to_range(ts, time_range=time_range)\n",
    "\n",
    "    if save_files:\n",
    "        if nrows is None:\n",
    "            ts.to_csv(\"{}_ts.csv\".format(file_prefix))\n",
    "            ranged_ts.to_csv(\"{0}_ranged_ts_{1}.csv\".format(file_prefix,time_range))\n",
    "        else:\n",
    "            ts.to_csv(\"{0}_ts_{1}_rows.csv\".format(file_postfix,nrows))\n",
    "            ranged_ts.to_csv(\"{0}_ranged_ts_{1}_{2}_rows.csv\".format(file_prefix,time_range,nrows))\n",
    "    return ranged_ts\n",
    "\n"
   ]
  },
  {
   "cell_type": "code",
   "execution_count": 4,
   "metadata": {},
   "outputs": [
    {
     "name": "stderr",
     "output_type": "stream",
     "text": [
      "C:\\ProgramData\\Anaconda3\\lib\\site-packages\\moda\\dataprep\\ts_to_range.py:17: FutureWarning: pd.TimeGrouper is deprecated and will be removed; Please use pd.Grouper(freq=...)\n",
      "  range_grp = ts.groupby([pd.TimeGrouper(time_range), 'category']).agg('count')\n"
     ]
    }
   ],
   "source": [
    "# This might take some time to load\n",
    "ranged_ts_24H_2018 = prep_data(DATAPATH,time_range='24H',min_date=\"01-01-2018\",save_files = True,file_prefix = \"SF\")"
   ]
  },
  {
   "cell_type": "code",
   "execution_count": 16,
   "metadata": {},
   "outputs": [
    {
     "name": "stderr",
     "output_type": "stream",
     "text": [
      "C:\\ProgramData\\Anaconda3\\lib\\site-packages\\moda\\dataprep\\ts_to_range.py:17: FutureWarning: pd.TimeGrouper is deprecated and will be removed; Please use pd.Grouper(freq=...)\n",
      "  range_grp = ts.groupby([pd.TimeGrouper(time_range), 'category']).agg('count')\n"
     ]
    }
   ],
   "source": [
    "# This might take some time to load\n",
    "ranged_ts_1H_2018 = prep_data(DATAPATH,time_range='1H',min_date=\"01-01-2018\",save_files = True,file_prefix = \"SF\")"
   ]
  },
  {
   "cell_type": "markdown",
   "metadata": {},
   "source": [
    "Now that we have a file with the number of events per category per time, we can start modeling."
   ]
  },
  {
   "cell_type": "markdown",
   "metadata": {},
   "source": [
    "First, in order to be able to estimate our models, we use [TagAnomaly](https://github.com/Microsoft/TagAnomaly) to tag the points we think are showing trends in the data. Taganomaly can be found here: https://github.com/Microsoft/TagAnomaly\n",
    "Second, we join the tagged dataset with the time series dataset. Each sample which isn't included in the tagged dataset is assumed to be non-trending (or normal)\n"
   ]
  },
  {
   "cell_type": "code",
   "execution_count": 17,
   "metadata": {},
   "outputs": [
    {
     "data": {
      "text/html": [
       "<div>\n",
       "<style scoped>\n",
       "    .dataframe tbody tr th:only-of-type {\n",
       "        vertical-align: middle;\n",
       "    }\n",
       "\n",
       "    .dataframe tbody tr th {\n",
       "        vertical-align: top;\n",
       "    }\n",
       "\n",
       "    .dataframe thead th {\n",
       "        text-align: right;\n",
       "    }\n",
       "</style>\n",
       "<table border=\"1\" class=\"dataframe\">\n",
       "  <thead>\n",
       "    <tr style=\"text-align: right;\">\n",
       "      <th></th>\n",
       "      <th>date</th>\n",
       "      <th>category</th>\n",
       "      <th>value</th>\n",
       "    </tr>\n",
       "  </thead>\n",
       "  <tbody>\n",
       "    <tr>\n",
       "      <th>0</th>\n",
       "      <td>2018-04-17</td>\n",
       "      <td>Blocked Street or SideWalk</td>\n",
       "      <td>36</td>\n",
       "    </tr>\n",
       "    <tr>\n",
       "      <th>1</th>\n",
       "      <td>2018-04-18</td>\n",
       "      <td>Blocked Street or SideWalk</td>\n",
       "      <td>40</td>\n",
       "    </tr>\n",
       "    <tr>\n",
       "      <th>2</th>\n",
       "      <td>2018-04-19</td>\n",
       "      <td>Blocked Street or SideWalk</td>\n",
       "      <td>31</td>\n",
       "    </tr>\n",
       "    <tr>\n",
       "      <th>3</th>\n",
       "      <td>2018-04-20</td>\n",
       "      <td>Blocked Street or SideWalk</td>\n",
       "      <td>38</td>\n",
       "    </tr>\n",
       "    <tr>\n",
       "      <th>4</th>\n",
       "      <td>2018-04-17</td>\n",
       "      <td>Blocked Street or SideWalk</td>\n",
       "      <td>36</td>\n",
       "    </tr>\n",
       "  </tbody>\n",
       "</table>\n",
       "</div>"
      ],
      "text/plain": [
       "        date                    category  value\n",
       "0 2018-04-17  Blocked Street or SideWalk     36\n",
       "1 2018-04-18  Blocked Street or SideWalk     40\n",
       "2 2018-04-19  Blocked Street or SideWalk     31\n",
       "3 2018-04-20  Blocked Street or SideWalk     38\n",
       "4 2018-04-17  Blocked Street or SideWalk     36"
      ]
     },
     "execution_count": 17,
     "metadata": {},
     "output_type": "execute_result"
    }
   ],
   "source": [
    "labels24H = pd.read_csv('SF_24H_anomalies_only.csv',usecols=['date','category','value'])\n",
    "labels24H.date = pd.to_datetime(labels24H.date)\n",
    "labels24H.head()"
   ]
  },
  {
   "cell_type": "code",
   "execution_count": 18,
   "metadata": {},
   "outputs": [
    {
     "data": {
      "text/html": [
       "<div>\n",
       "<style scoped>\n",
       "    .dataframe tbody tr th:only-of-type {\n",
       "        vertical-align: middle;\n",
       "    }\n",
       "\n",
       "    .dataframe tbody tr th {\n",
       "        vertical-align: top;\n",
       "    }\n",
       "\n",
       "    .dataframe thead th {\n",
       "        text-align: right;\n",
       "    }\n",
       "</style>\n",
       "<table border=\"1\" class=\"dataframe\">\n",
       "  <thead>\n",
       "    <tr style=\"text-align: right;\">\n",
       "      <th></th>\n",
       "      <th>date</th>\n",
       "      <th>category</th>\n",
       "      <th>value</th>\n",
       "    </tr>\n",
       "  </thead>\n",
       "  <tbody>\n",
       "    <tr>\n",
       "      <th>0</th>\n",
       "      <td>2018-01-30 08:00:00</td>\n",
       "      <td>Abandoned Vehicle</td>\n",
       "      <td>16</td>\n",
       "    </tr>\n",
       "    <tr>\n",
       "      <th>1</th>\n",
       "      <td>2018-01-30 09:00:00</td>\n",
       "      <td>Abandoned Vehicle</td>\n",
       "      <td>21</td>\n",
       "    </tr>\n",
       "    <tr>\n",
       "      <th>2</th>\n",
       "      <td>2018-02-01 17:00:00</td>\n",
       "      <td>Abandoned Vehicle</td>\n",
       "      <td>18</td>\n",
       "    </tr>\n",
       "    <tr>\n",
       "      <th>3</th>\n",
       "      <td>2018-02-05 08:00:00</td>\n",
       "      <td>Abandoned Vehicle</td>\n",
       "      <td>18</td>\n",
       "    </tr>\n",
       "    <tr>\n",
       "      <th>4</th>\n",
       "      <td>2018-02-12 15:00:00</td>\n",
       "      <td>Abandoned Vehicle</td>\n",
       "      <td>16</td>\n",
       "    </tr>\n",
       "  </tbody>\n",
       "</table>\n",
       "</div>"
      ],
      "text/plain": [
       "                 date           category  value\n",
       "0 2018-01-30 08:00:00  Abandoned Vehicle     16\n",
       "1 2018-01-30 09:00:00  Abandoned Vehicle     21\n",
       "2 2018-02-01 17:00:00  Abandoned Vehicle     18\n",
       "3 2018-02-05 08:00:00  Abandoned Vehicle     18\n",
       "4 2018-02-12 15:00:00  Abandoned Vehicle     16"
      ]
     },
     "execution_count": 18,
     "metadata": {},
     "output_type": "execute_result"
    }
   ],
   "source": [
    "labels1H = pd.read_csv('SF_1H_anomalies_only.csv',usecols=['date','category','value'])\n",
    "labels1H.date = pd.to_datetime(labels1H.date)\n",
    "labels1H.head()"
   ]
  },
  {
   "cell_type": "code",
   "execution_count": 19,
   "metadata": {},
   "outputs": [
    {
     "data": {
      "text/html": [
       "<div>\n",
       "<style scoped>\n",
       "    .dataframe tbody tr th:only-of-type {\n",
       "        vertical-align: middle;\n",
       "    }\n",
       "\n",
       "    .dataframe tbody tr th {\n",
       "        vertical-align: top;\n",
       "    }\n",
       "\n",
       "    .dataframe thead th {\n",
       "        text-align: right;\n",
       "    }\n",
       "</style>\n",
       "<table border=\"1\" class=\"dataframe\">\n",
       "  <thead>\n",
       "    <tr style=\"text-align: right;\">\n",
       "      <th></th>\n",
       "      <th>date</th>\n",
       "      <th>category</th>\n",
       "      <th>value</th>\n",
       "    </tr>\n",
       "  </thead>\n",
       "  <tbody>\n",
       "    <tr>\n",
       "      <th>0</th>\n",
       "      <td>2018-01-01</td>\n",
       "      <td>Abandoned Vehicle</td>\n",
       "      <td>52</td>\n",
       "    </tr>\n",
       "    <tr>\n",
       "      <th>1</th>\n",
       "      <td>2018-01-01</td>\n",
       "      <td>Blocked Street or SideWalk</td>\n",
       "      <td>14</td>\n",
       "    </tr>\n",
       "    <tr>\n",
       "      <th>2</th>\n",
       "      <td>2018-01-01</td>\n",
       "      <td>Catch Basin Maintenance</td>\n",
       "      <td>1</td>\n",
       "    </tr>\n",
       "    <tr>\n",
       "      <th>3</th>\n",
       "      <td>2018-01-01</td>\n",
       "      <td>Color Curb</td>\n",
       "      <td>2</td>\n",
       "    </tr>\n",
       "    <tr>\n",
       "      <th>4</th>\n",
       "      <td>2018-01-01</td>\n",
       "      <td>Damaged Property</td>\n",
       "      <td>18</td>\n",
       "    </tr>\n",
       "  </tbody>\n",
       "</table>\n",
       "</div>"
      ],
      "text/plain": [
       "        date                    category  value\n",
       "0 2018-01-01           Abandoned Vehicle     52\n",
       "1 2018-01-01  Blocked Street or SideWalk     14\n",
       "2 2018-01-01     Catch Basin Maintenance      1\n",
       "3 2018-01-01                  Color Curb      2\n",
       "4 2018-01-01            Damaged Property     18"
      ]
     },
     "execution_count": 19,
     "metadata": {},
     "output_type": "execute_result"
    }
   ],
   "source": [
    "ranged_ts_24H_2018.reset_index().head()"
   ]
  },
  {
   "cell_type": "code",
   "execution_count": 20,
   "metadata": {},
   "outputs": [
    {
     "data": {
      "text/html": [
       "<div>\n",
       "<style scoped>\n",
       "    .dataframe tbody tr th:only-of-type {\n",
       "        vertical-align: middle;\n",
       "    }\n",
       "\n",
       "    .dataframe tbody tr th {\n",
       "        vertical-align: top;\n",
       "    }\n",
       "\n",
       "    .dataframe thead th {\n",
       "        text-align: right;\n",
       "    }\n",
       "</style>\n",
       "<table border=\"1\" class=\"dataframe\">\n",
       "  <thead>\n",
       "    <tr style=\"text-align: right;\">\n",
       "      <th></th>\n",
       "      <th>date</th>\n",
       "      <th>category</th>\n",
       "      <th>value</th>\n",
       "    </tr>\n",
       "  </thead>\n",
       "  <tbody>\n",
       "    <tr>\n",
       "      <th>0</th>\n",
       "      <td>2018-01-01</td>\n",
       "      <td>Abandoned Vehicle</td>\n",
       "      <td>1</td>\n",
       "    </tr>\n",
       "    <tr>\n",
       "      <th>1</th>\n",
       "      <td>2018-01-01</td>\n",
       "      <td>General Request - ANIMAL CARE CONTROL</td>\n",
       "      <td>1</td>\n",
       "    </tr>\n",
       "    <tr>\n",
       "      <th>2</th>\n",
       "      <td>2018-01-01</td>\n",
       "      <td>General Request - PUC</td>\n",
       "      <td>1</td>\n",
       "    </tr>\n",
       "    <tr>\n",
       "      <th>3</th>\n",
       "      <td>2018-01-01</td>\n",
       "      <td>Graffiti</td>\n",
       "      <td>1</td>\n",
       "    </tr>\n",
       "    <tr>\n",
       "      <th>4</th>\n",
       "      <td>2018-01-01</td>\n",
       "      <td>MUNI Feedback</td>\n",
       "      <td>1</td>\n",
       "    </tr>\n",
       "  </tbody>\n",
       "</table>\n",
       "</div>"
      ],
      "text/plain": [
       "        date                               category  value\n",
       "0 2018-01-01                      Abandoned Vehicle      1\n",
       "1 2018-01-01  General Request - ANIMAL CARE CONTROL      1\n",
       "2 2018-01-01                  General Request - PUC      1\n",
       "3 2018-01-01                               Graffiti      1\n",
       "4 2018-01-01                          MUNI Feedback      1"
      ]
     },
     "execution_count": 20,
     "metadata": {},
     "output_type": "execute_result"
    }
   ],
   "source": [
    "ranged_ts_1H_2018.reset_index().head()"
   ]
  },
  {
   "cell_type": "code",
   "execution_count": 21,
   "metadata": {},
   "outputs": [],
   "source": [
    "df24H = pd.merge(ranged_ts_24H_2018.reset_index(),labels24H,how='left',on=['date','category'])\n",
    "df24H['label'] = np.where(np.isnan(df24H['value_y']),0,1)\n",
    "df24H = df24H.drop(columns = 'value_y').rename(columns = {'value_x':'value'})\n",
    "df24H.to_csv(\"SF24H_labeled.csv\")\n",
    "\n",
    "df1H = pd.merge(ranged_ts_1H_2018.reset_index(),labels1H,how='left',on=['date','category'])\n",
    "df1H['label'] = np.where(np.isnan(df1H['value_y']),0,1)\n",
    "df1H = df1H.drop(columns = 'value_y').rename(columns = {'value_x':'value'})\n",
    "df1H.to_csv(\"SF24H_labeled.csv\")"
   ]
  },
  {
   "cell_type": "markdown",
   "metadata": {},
   "source": [
    "All examples:"
   ]
  },
  {
   "cell_type": "code",
   "execution_count": 22,
   "metadata": {},
   "outputs": [
    {
     "data": {
      "text/html": [
       "<div>\n",
       "<style scoped>\n",
       "    .dataframe tbody tr th:only-of-type {\n",
       "        vertical-align: middle;\n",
       "    }\n",
       "\n",
       "    .dataframe tbody tr th {\n",
       "        vertical-align: top;\n",
       "    }\n",
       "\n",
       "    .dataframe thead th {\n",
       "        text-align: right;\n",
       "    }\n",
       "</style>\n",
       "<table border=\"1\" class=\"dataframe\">\n",
       "  <thead>\n",
       "    <tr style=\"text-align: right;\">\n",
       "      <th></th>\n",
       "      <th>date</th>\n",
       "      <th>category</th>\n",
       "      <th>value</th>\n",
       "      <th>label</th>\n",
       "    </tr>\n",
       "  </thead>\n",
       "  <tbody>\n",
       "    <tr>\n",
       "      <th>0</th>\n",
       "      <td>2018-01-01</td>\n",
       "      <td>Abandoned Vehicle</td>\n",
       "      <td>52</td>\n",
       "      <td>0</td>\n",
       "    </tr>\n",
       "    <tr>\n",
       "      <th>1</th>\n",
       "      <td>2018-01-01</td>\n",
       "      <td>Blocked Street or SideWalk</td>\n",
       "      <td>14</td>\n",
       "      <td>0</td>\n",
       "    </tr>\n",
       "    <tr>\n",
       "      <th>2</th>\n",
       "      <td>2018-01-01</td>\n",
       "      <td>Catch Basin Maintenance</td>\n",
       "      <td>1</td>\n",
       "      <td>0</td>\n",
       "    </tr>\n",
       "    <tr>\n",
       "      <th>3</th>\n",
       "      <td>2018-01-01</td>\n",
       "      <td>Color Curb</td>\n",
       "      <td>2</td>\n",
       "      <td>0</td>\n",
       "    </tr>\n",
       "    <tr>\n",
       "      <th>4</th>\n",
       "      <td>2018-01-01</td>\n",
       "      <td>Damaged Property</td>\n",
       "      <td>18</td>\n",
       "      <td>0</td>\n",
       "    </tr>\n",
       "  </tbody>\n",
       "</table>\n",
       "</div>"
      ],
      "text/plain": [
       "        date                    category  value  label\n",
       "0 2018-01-01           Abandoned Vehicle     52      0\n",
       "1 2018-01-01  Blocked Street or SideWalk     14      0\n",
       "2 2018-01-01     Catch Basin Maintenance      1      0\n",
       "3 2018-01-01                  Color Curb      2      0\n",
       "4 2018-01-01            Damaged Property     18      0"
      ]
     },
     "execution_count": 22,
     "metadata": {},
     "output_type": "execute_result"
    }
   ],
   "source": [
    "df24H.head()"
   ]
  },
  {
   "cell_type": "markdown",
   "metadata": {},
   "source": [
    "Positive examples:"
   ]
  },
  {
   "cell_type": "code",
   "execution_count": 23,
   "metadata": {},
   "outputs": [
    {
     "data": {
      "text/html": [
       "<div>\n",
       "<style scoped>\n",
       "    .dataframe tbody tr th:only-of-type {\n",
       "        vertical-align: middle;\n",
       "    }\n",
       "\n",
       "    .dataframe tbody tr th {\n",
       "        vertical-align: top;\n",
       "    }\n",
       "\n",
       "    .dataframe thead th {\n",
       "        text-align: right;\n",
       "    }\n",
       "</style>\n",
       "<table border=\"1\" class=\"dataframe\">\n",
       "  <thead>\n",
       "    <tr style=\"text-align: right;\">\n",
       "      <th></th>\n",
       "      <th>date</th>\n",
       "      <th>category</th>\n",
       "      <th>value</th>\n",
       "      <th>label</th>\n",
       "    </tr>\n",
       "  </thead>\n",
       "  <tbody>\n",
       "    <tr>\n",
       "      <th>237</th>\n",
       "      <td>2018-01-07</td>\n",
       "      <td>Sidewalk or Curb</td>\n",
       "      <td>34</td>\n",
       "      <td>1</td>\n",
       "    </tr>\n",
       "    <tr>\n",
       "      <th>247</th>\n",
       "      <td>2018-01-08</td>\n",
       "      <td>Catch Basin Maintenance</td>\n",
       "      <td>19</td>\n",
       "      <td>1</td>\n",
       "    </tr>\n",
       "    <tr>\n",
       "      <th>261</th>\n",
       "      <td>2018-01-08</td>\n",
       "      <td>General Request - PUC</td>\n",
       "      <td>38</td>\n",
       "      <td>1</td>\n",
       "    </tr>\n",
       "    <tr>\n",
       "      <th>273</th>\n",
       "      <td>2018-01-08</td>\n",
       "      <td>Sewer Issues</td>\n",
       "      <td>168</td>\n",
       "      <td>1</td>\n",
       "    </tr>\n",
       "    <tr>\n",
       "      <th>318</th>\n",
       "      <td>2018-01-09</td>\n",
       "      <td>Temporary Sign Request</td>\n",
       "      <td>62</td>\n",
       "      <td>1</td>\n",
       "    </tr>\n",
       "  </tbody>\n",
       "</table>\n",
       "</div>"
      ],
      "text/plain": [
       "          date                 category  value  label\n",
       "237 2018-01-07         Sidewalk or Curb     34      1\n",
       "247 2018-01-08  Catch Basin Maintenance     19      1\n",
       "261 2018-01-08    General Request - PUC     38      1\n",
       "273 2018-01-08             Sewer Issues    168      1\n",
       "318 2018-01-09   Temporary Sign Request     62      1"
      ]
     },
     "execution_count": 23,
     "metadata": {},
     "output_type": "execute_result"
    }
   ],
   "source": [
    "df24H[df24H.label > 0].head()"
   ]
  },
  {
   "cell_type": "markdown",
   "metadata": {},
   "source": [
    "Evaluating different models"
   ]
  },
  {
   "cell_type": "code",
   "execution_count": 31,
   "metadata": {},
   "outputs": [
    {
     "ename": "ModuleNotFoundError",
     "evalue": "No module named 'moda.models.azure_anomaly_detection'",
     "output_type": "error",
     "traceback": [
      "\u001b[1;31m---------------------------------------------------------------------------\u001b[0m",
      "\u001b[1;31mModuleNotFoundError\u001b[0m                       Traceback (most recent call last)",
      "\u001b[1;32m<ipython-input-31-dad9e7d10452>\u001b[0m in \u001b[0;36m<module>\u001b[1;34m()\u001b[0m\n\u001b[0;32m      1\u001b[0m \u001b[1;32mfrom\u001b[0m \u001b[0mmoda\u001b[0m\u001b[1;33m.\u001b[0m\u001b[0mevaluators\u001b[0m\u001b[1;33m.\u001b[0m\u001b[0meval\u001b[0m \u001b[1;32mimport\u001b[0m \u001b[0mget_evaluation_metrics\u001b[0m\u001b[1;33m,\u001b[0m \u001b[0mget_final_metrics\u001b[0m\u001b[1;33m,\u001b[0m \u001b[0meval_models\u001b[0m\u001b[1;33m\u001b[0m\u001b[0m\n\u001b[1;32m----> 2\u001b[1;33m \u001b[1;32mfrom\u001b[0m \u001b[0mmoda\u001b[0m\u001b[1;33m.\u001b[0m\u001b[0mmodels\u001b[0m\u001b[1;33m.\u001b[0m\u001b[0mazure_anomaly_detection\u001b[0m\u001b[1;33m.\u001b[0m\u001b[0mazure_ad\u001b[0m \u001b[1;32mimport\u001b[0m \u001b[0mAzureAnomalyTrendinessDetector\u001b[0m\u001b[1;33m\u001b[0m\u001b[0m\n\u001b[0m\u001b[0;32m      3\u001b[0m \u001b[1;32mfrom\u001b[0m \u001b[0mmoda\u001b[0m\u001b[1;33m.\u001b[0m\u001b[0mmodels\u001b[0m\u001b[1;33m.\u001b[0m\u001b[0mdata_reader\u001b[0m \u001b[1;32mimport\u001b[0m \u001b[0mread_data\u001b[0m\u001b[1;33m\u001b[0m\u001b[0m\n\u001b[0;32m      4\u001b[0m \u001b[1;32mfrom\u001b[0m \u001b[0mmoda\u001b[0m\u001b[1;33m.\u001b[0m\u001b[0mmodels\u001b[0m\u001b[1;33m.\u001b[0m\u001b[0mma_seasonal\u001b[0m\u001b[1;33m.\u001b[0m\u001b[0mma_seasonal_model\u001b[0m \u001b[1;32mimport\u001b[0m \u001b[0mMovingAverageSeasonalTrendinessDetector\u001b[0m\u001b[1;33m\u001b[0m\u001b[0m\n\u001b[0;32m      5\u001b[0m \u001b[1;32mfrom\u001b[0m \u001b[0mmoda\u001b[0m\u001b[1;33m.\u001b[0m\u001b[0mmodels\u001b[0m\u001b[1;33m.\u001b[0m\u001b[0mstl\u001b[0m\u001b[1;33m.\u001b[0m\u001b[0mstl_model\u001b[0m \u001b[1;32mimport\u001b[0m \u001b[0mSTLTrendinessDetector\u001b[0m\u001b[1;33m\u001b[0m\u001b[0m\n",
      "\u001b[1;31mModuleNotFoundError\u001b[0m: No module named 'moda.models.azure_anomaly_detection'"
     ]
    }
   ],
   "source": [
    "from moda.evaluators.eval import get_evaluation_metrics, get_final_metrics, eval_models\n",
    "from moda.models.azure_anomaly_detection.azure_ad import AzureAnomalyTrendinessDetector\n",
    "from moda.models.data_reader import read_data\n",
    "from moda.models.ma_seasonal.ma_seasonal_model import MovingAverageSeasonalTrendinessDetector\n",
    "from moda.models.stl.stl_model import STLTrendinessDetector\n",
    "from moda.models.twitter.anomaly_detect_multicategory import TwitterAnomalyTrendinessDetector\n",
    "\n",
    "\n",
    "def run_model(dataset, freq, min_date='01-01-2018', plot=True, model_name='stl', min_value=10):\n",
    "\n",
    "\n",
    "    if len(dataset.index.levels) > 1:\n",
    "        categories = dataset.index.levels[1]\n",
    "        print(\"categories found = {}\".format(categories))\n",
    "\n",
    "    if model_name == 'twitter':\n",
    "        model = TwitterAnomalyTrendinessDetector(is_multicategory=True, freq=freq, min_value=min_value, threshold=None,\n",
    "                                                 max_anoms=0.49, seasonality_freq=7)\n",
    "\n",
    "    if model_name == 'ma_seasonal':\n",
    "        model = MovingAverageSeasonalTrendinessDetector(is_multicategory=True, freq=freq, min_value=min_value,\n",
    "                                                        anomaly_type='or',\n",
    "                                                        num_of_std=3)\n",
    "\n",
    "    if model_name == 'stl':\n",
    "        model = STLTrendinessDetector(is_multicategory=True, freq=freq, min_value=min_value,\n",
    "                                      anomaly_type='or',\n",
    "                                      num_of_std=2.5, lo_delta=0)\n",
    "\n",
    "    if model_name == 'azure':\n",
    "        dirname = os.path.dirname(__file__)\n",
    "        filename = os.path.join(dirname, 'config/config.json')\n",
    "        subscription_key = get_azure_subscription_key(filename)\n",
    "        model = AzureAnomalyTrendinessDetector(is_multicategory=True, freq=freq, min_value=min_value,\n",
    "                                               subscription_key=subscription_key)\n",
    "\n",
    "    prediction = model.predict(dataset, verbose=True)\n",
    "    raw_metrics = get_evaluation_metrics(dataset[['value']], prediction[['prediction']], dataset[['label']],\n",
    "                                         window_size_for_metrics=5)\n",
    "    metrics = get_final_metrics(raw_metrics)\n",
    "    print(metrics)\n",
    "\n",
    "    ## Plot each category\n",
    "    if plot:\n",
    "        _, file = os.path.split(datapath)\n",
    "        print(\"Plotting...\")\n",
    "        model.plot(labels=dataset['label'], postfix=file)\n",
    "\n",
    "    return prediction\n"
   ]
  },
  {
   "cell_type": "code",
   "execution_count": 34,
   "metadata": {},
   "outputs": [
    {
     "name": "stdout",
     "output_type": "stream",
     "text": [
      "Object `moda` not found.\n"
     ]
    }
   ],
   "source": []
  },
  {
   "cell_type": "code",
   "execution_count": 29,
   "metadata": {},
   "outputs": [
    {
     "ename": "NameError",
     "evalue": "name 'run_model' is not defined",
     "output_type": "error",
     "traceback": [
      "\u001b[1;31m---------------------------------------------------------------------------\u001b[0m",
      "\u001b[1;31mNameError\u001b[0m                                 Traceback (most recent call last)",
      "\u001b[1;32m<ipython-input-29-eff190cc517f>\u001b[0m in \u001b[0;36m<module>\u001b[1;34m()\u001b[0m\n\u001b[1;32m----> 1\u001b[1;33m \u001b[0mprediction\u001b[0m \u001b[1;33m=\u001b[0m \u001b[0mrun_model\u001b[0m\u001b[1;33m(\u001b[0m\u001b[0mdf24H\u001b[0m\u001b[1;33m,\u001b[0m\u001b[0mfreq\u001b[0m\u001b[1;33m=\u001b[0m\u001b[1;34m'24H'\u001b[0m\u001b[1;33m,\u001b[0m\u001b[0mmodel_name\u001b[0m\u001b[1;33m=\u001b[0m\u001b[1;34m'stl'\u001b[0m\u001b[1;33m)\u001b[0m\u001b[1;33m\u001b[0m\u001b[0m\n\u001b[0m",
      "\u001b[1;31mNameError\u001b[0m: name 'run_model' is not defined"
     ]
    }
   ],
   "source": [
    "prediction = run_model(df24H,freq='24H',model_name='stl')"
   ]
  }
 ],
 "metadata": {
  "kernelspec": {
   "display_name": "Python 3",
   "language": "python",
   "name": "python3"
  },
  "language_info": {
   "codemirror_mode": {
    "name": "ipython",
    "version": 3
   },
   "file_extension": ".py",
   "mimetype": "text/x-python",
   "name": "python",
   "nbconvert_exporter": "python",
   "pygments_lexer": "ipython3",
   "version": "3.6.5"
  }
 },
 "nbformat": 4,
 "nbformat_minor": 2
}
